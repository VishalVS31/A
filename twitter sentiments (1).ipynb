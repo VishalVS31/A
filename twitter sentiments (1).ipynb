{
 "cells": [
  {
   "cell_type": "code",
   "execution_count": 2,
   "id": "54d13cc1",
   "metadata": {},
   "outputs": [
    {
     "name": "stdout",
     "output_type": "stream",
     "text": [
      "Collecting selenium\n",
      "  Downloading selenium-4.9.0-py3-none-any.whl (6.5 MB)\n",
      "     ---------------------------------------- 6.5/6.5 MB 608.8 kB/s eta 0:00:00\n",
      "Requirement already satisfied: urllib3[socks]~=1.26 in c:\\users\\welcome\\anaconda3\\lib\\site-packages (from selenium) (1.26.14)\n",
      "Requirement already satisfied: certifi>=2021.10.8 in c:\\users\\welcome\\anaconda3\\lib\\site-packages (from selenium) (2022.12.7)\n",
      "Collecting trio~=0.17\n",
      "  Downloading trio-0.22.0-py3-none-any.whl (384 kB)\n",
      "     ------------------------------------ 384.9/384.9 kB 648.3 kB/s eta 0:00:00\n",
      "Collecting trio-websocket~=0.9\n",
      "  Downloading trio_websocket-0.10.2-py3-none-any.whl (17 kB)\n",
      "Requirement already satisfied: cffi>=1.14 in c:\\users\\welcome\\anaconda3\\lib\\site-packages (from trio~=0.17->selenium) (1.15.1)\n",
      "Requirement already satisfied: attrs>=19.2.0 in c:\\users\\welcome\\anaconda3\\lib\\site-packages (from trio~=0.17->selenium) (22.1.0)\n",
      "Collecting async-generator>=1.9\n",
      "  Downloading async_generator-1.10-py3-none-any.whl (18 kB)\n",
      "Collecting exceptiongroup>=1.0.0rc9\n",
      "  Downloading exceptiongroup-1.1.1-py3-none-any.whl (14 kB)\n",
      "Requirement already satisfied: idna in c:\\users\\welcome\\anaconda3\\lib\\site-packages (from trio~=0.17->selenium) (3.4)\n",
      "Requirement already satisfied: sortedcontainers in c:\\users\\welcome\\anaconda3\\lib\\site-packages (from trio~=0.17->selenium) (2.4.0)\n",
      "Collecting outcome\n",
      "  Downloading outcome-1.2.0-py2.py3-none-any.whl (9.7 kB)\n",
      "Requirement already satisfied: sniffio in c:\\users\\welcome\\anaconda3\\lib\\site-packages (from trio~=0.17->selenium) (1.2.0)\n",
      "Collecting wsproto>=0.14\n",
      "  Downloading wsproto-1.2.0-py3-none-any.whl (24 kB)\n",
      "Requirement already satisfied: PySocks!=1.5.7,<2.0,>=1.5.6 in c:\\users\\welcome\\anaconda3\\lib\\site-packages (from urllib3[socks]~=1.26->selenium) (1.7.1)\n",
      "Requirement already satisfied: pycparser in c:\\users\\welcome\\anaconda3\\lib\\site-packages (from cffi>=1.14->trio~=0.17->selenium) (2.21)\n",
      "Collecting h11<1,>=0.9.0\n",
      "  Downloading h11-0.14.0-py3-none-any.whl (58 kB)\n",
      "     -------------------------------------- 58.3/58.3 kB 510.8 kB/s eta 0:00:00\n",
      "Installing collected packages: outcome, h11, exceptiongroup, async-generator, wsproto, trio, trio-websocket, selenium\n",
      "Successfully installed async-generator-1.10 exceptiongroup-1.1.1 h11-0.14.0 outcome-1.2.0 selenium-4.9.0 trio-0.22.0 trio-websocket-0.10.2 wsproto-1.2.0\n"
     ]
    }
   ],
   "source": [
    "!pip install selenium"
   ]
  },
  {
   "cell_type": "code",
   "execution_count": 3,
   "id": "aba1beeb",
   "metadata": {},
   "outputs": [],
   "source": [
    "import selenium"
   ]
  },
  {
   "cell_type": "code",
   "execution_count": 8,
   "id": "04256407",
   "metadata": {},
   "outputs": [],
   "source": [
    "from selenium.webdriver.common.by import By\n",
    "from selenium.webdriver.common.keys import Keys\n",
    "from time import sleep\n",
    "import getpass"
   ]
  },
  {
   "cell_type": "code",
   "execution_count": null,
   "id": "c76f5e45",
   "metadata": {},
   "outputs": [],
   "source": [
    "my_user = \"VishalS39768006\"\n",
    "my_pass = getpass.getpass()"
   ]
  },
  {
   "cell_type": "code",
   "execution_count": 25,
   "id": "6d9b88ae",
   "metadata": {},
   "outputs": [],
   "source": [
    "search_item = \"artificial intelligence jobs\""
   ]
  },
  {
   "cell_type": "code",
   "execution_count": 19,
   "id": "058d0fa9",
   "metadata": {},
   "outputs": [
    {
     "name": "stderr",
     "output_type": "stream",
     "text": [
      "C:\\Users\\WELCOME\\AppData\\Local\\Temp\\ipykernel_6796\\620006778.py:5: DeprecationWarning: executable_path has been deprecated, please pass in a Service object\n",
      "  driver = webdriver.Chrome(PATH)\n"
     ]
    }
   ],
   "source": [
    "from selenium import webdriver\n",
    "from time import sleep\n",
    "\n",
    "PATH = \"C:\\Program Files\\drivers\\chromedriver.exe\"\n",
    "driver = webdriver.Chrome(PATH)\n",
    "\n",
    "driver.get(\"https://twitter.com/i/flow/login\")\n",
    "# driver.maximize_window()\n",
    "sleep(3)"
   ]
  },
  {
   "cell_type": "code",
   "execution_count": 20,
   "id": "5622373d",
   "metadata": {},
   "outputs": [],
   "source": [
    "user_id = driver.find_element(By.XPATH,\"//input[@type='text']\")\n",
    "user_id.send_keys(my_user)\n",
    "user_id.send_keys(Keys.ENTER)"
   ]
  },
  {
   "cell_type": "code",
   "execution_count": 21,
   "id": "1a37005e",
   "metadata": {},
   "outputs": [],
   "source": [
    "password = driver.find_element(By.XPATH,\"//input[@type='password']\")\n",
    "password.send_keys(my_pass)\n",
    "password.send_keys(Keys.ENTER)\n"
   ]
  },
  {
   "cell_type": "code",
   "execution_count": 22,
   "id": "17277477",
   "metadata": {},
   "outputs": [],
   "source": [
    "# # Scrape Tweets mentioning about artificial intelligence"
   ]
  },
  {
   "cell_type": "code",
   "execution_count": 27,
   "id": "cf24a22f",
   "metadata": {},
   "outputs": [],
   "source": [
    "search_box = driver.find_element(By.XPATH,\"//input[@data-testid='SearchBox_Search_Input']\")\n",
    "search_box.send_keys(search_item)\n",
    "search_box.send_keys(Keys.ENTER)"
   ]
  },
  {
   "cell_type": "code",
   "execution_count": 28,
   "id": "f287eb18",
   "metadata": {},
   "outputs": [],
   "source": [
    "# collecting twittes\n",
    "all_tweets = set()\n",
    "\n",
    "\n",
    "tweets = driver.find_elements(By.XPATH,\"//div[@data-testid='tweetText']\")\n",
    "while True:\n",
    "    for tweet in tweets:\n",
    "        all_tweets.add(tweet.text)\n",
    "    driver.execute_script('window.scrollTo(0, document.body.scrollHeight);')\n",
    "    sleep(3)\n",
    "    tweets = driver.find_elements(By.XPATH,\"//div[@data-testid='tweetText']\")\n",
    "    if len(all_tweets)>100:\n",
    "        break"
   ]
  },
  {
   "cell_type": "code",
   "execution_count": 29,
   "id": "944fcebf",
   "metadata": {},
   "outputs": [
    {
     "data": {
      "text/plain": [
       "'Source  Visual Capitalist'"
      ]
     },
     "execution_count": 29,
     "metadata": {},
     "output_type": "execute_result"
    }
   ],
   "source": [
    "all_tweets = list(all_tweets)\n",
    "all_tweets[0]\n"
   ]
  },
  {
   "cell_type": "code",
   "execution_count": 30,
   "id": "f322099a",
   "metadata": {},
   "outputs": [],
   "source": [
    "# # Cleaning the Tweets"
   ]
  },
  {
   "cell_type": "code",
   "execution_count": 31,
   "id": "d23f6e7a",
   "metadata": {},
   "outputs": [
    {
     "name": "stderr",
     "output_type": "stream",
     "text": [
      "[nltk_data] Downloading package punkt to\n",
      "[nltk_data]     C:\\Users\\WELCOME\\AppData\\Roaming\\nltk_data...\n",
      "[nltk_data]   Unzipping tokenizers\\punkt.zip.\n",
      "[nltk_data] Downloading package stopwords to\n",
      "[nltk_data]     C:\\Users\\WELCOME\\AppData\\Roaming\\nltk_data...\n",
      "[nltk_data]   Unzipping corpora\\stopwords.zip.\n"
     ]
    },
    {
     "data": {
      "text/plain": [
       "True"
      ]
     },
     "execution_count": 31,
     "metadata": {},
     "output_type": "execute_result"
    }
   ],
   "source": [
    "import pandas as pd\n",
    "pd.options.display.max_colwidth = 1000\n",
    "import re\n",
    "import nltk\n",
    "nltk.download('punkt')\n",
    "nltk.download('stopwords')"
   ]
  },
  {
   "cell_type": "code",
   "execution_count": 35,
   "id": "5c712461",
   "metadata": {},
   "outputs": [
    {
     "name": "stderr",
     "output_type": "stream",
     "text": [
      "[nltk_data] Downloading package punkt to\n",
      "[nltk_data]     C:\\Users\\WELCOME\\AppData\\Roaming\\nltk_data...\n",
      "[nltk_data]   Package punkt is already up-to-date!\n",
      "[nltk_data] Downloading package stopwords to\n",
      "[nltk_data]     C:\\Users\\WELCOME\\AppData\\Roaming\\nltk_data...\n",
      "[nltk_data]   Package stopwords is already up-to-date!\n"
     ]
    },
    {
     "data": {
      "text/plain": [
       "True"
      ]
     },
     "execution_count": 35,
     "metadata": {},
     "output_type": "execute_result"
    }
   ],
   "source": [
    "import pandas as pd\n",
    "pd.options.display.max_colwidth = 1000\n",
    "import re\n",
    "import nltk\n",
    "nltk.download('punkt')\n",
    "nltk.download('stopwords')"
   ]
  },
  {
   "cell_type": "code",
   "execution_count": 36,
   "id": "3bb112c5",
   "metadata": {},
   "outputs": [],
   "source": [
    "from nltk.corpus import stopwords\n",
    "from nltk.tokenize import word_tokenize"
   ]
  },
  {
   "cell_type": "code",
   "execution_count": 37,
   "id": "0e11de8a",
   "metadata": {},
   "outputs": [
    {
     "name": "stdout",
     "output_type": "stream",
     "text": [
      "['i', 'me', 'my', 'myself', 'we', 'our', 'ours', 'ourselves', 'you', \"you're\", \"you've\", \"you'll\", \"you'd\", 'your', 'yours', 'yourself', 'yourselves', 'he', 'him', 'his', 'himself', 'she', \"she's\", 'her', 'hers', 'herself', 'it', \"it's\", 'its', 'itself', 'they', 'them', 'their', 'theirs', 'themselves', 'what', 'which', 'who', 'whom', 'this', 'that', \"that'll\", 'these', 'those', 'am', 'is', 'are', 'was', 'were', 'be', 'been', 'being', 'have', 'has', 'had', 'having', 'do', 'does', 'did', 'doing', 'a', 'an', 'the', 'and', 'but', 'if', 'or', 'because', 'as', 'until', 'while', 'of', 'at', 'by', 'for', 'with', 'about', 'against', 'between', 'into', 'through', 'during', 'before', 'after', 'above', 'below', 'to', 'from', 'up', 'down', 'in', 'out', 'on', 'off', 'over', 'under', 'again', 'further', 'then', 'once', 'here', 'there', 'when', 'where', 'why', 'how', 'all', 'any', 'both', 'each', 'few', 'more', 'most', 'other', 'some', 'such', 'no', 'nor', 'not', 'only', 'own', 'same', 'so', 'than', 'too', 'very', 's', 't', 'can', 'will', 'just', 'don', \"don't\", 'should', \"should've\", 'now', 'd', 'll', 'm', 'o', 're', 've', 'y', 'ain', 'aren', \"aren't\", 'couldn', \"couldn't\", 'didn', \"didn't\", 'doesn', \"doesn't\", 'hadn', \"hadn't\", 'hasn', \"hasn't\", 'haven', \"haven't\", 'isn', \"isn't\", 'ma', 'mightn', \"mightn't\", 'mustn', \"mustn't\", 'needn', \"needn't\", 'shan', \"shan't\", 'shouldn', \"shouldn't\", 'wasn', \"wasn't\", 'weren', \"weren't\", 'won', \"won't\", 'wouldn', \"wouldn't\"]\n"
     ]
    }
   ],
   "source": [
    "stp_words = stopwords.words('english')\n",
    "print(stp_words)"
   ]
  },
  {
   "cell_type": "code",
   "execution_count": 38,
   "id": "e44ea56d",
   "metadata": {},
   "outputs": [
    {
     "data": {
      "text/html": [
       "<div>\n",
       "<style scoped>\n",
       "    .dataframe tbody tr th:only-of-type {\n",
       "        vertical-align: middle;\n",
       "    }\n",
       "\n",
       "    .dataframe tbody tr th {\n",
       "        vertical-align: top;\n",
       "    }\n",
       "\n",
       "    .dataframe thead th {\n",
       "        text-align: right;\n",
       "    }\n",
       "</style>\n",
       "<table border=\"1\" class=\"dataframe\">\n",
       "  <thead>\n",
       "    <tr style=\"text-align: right;\">\n",
       "      <th></th>\n",
       "      <th>tweets</th>\n",
       "    </tr>\n",
       "  </thead>\n",
       "  <tbody>\n",
       "    <tr>\n",
       "      <th>0</th>\n",
       "      <td>Source  Visual Capitalist</td>\n",
       "    </tr>\n",
       "    <tr>\n",
       "      <th>1</th>\n",
       "      <td>Global labor markets are poised for a new era of turbulence as technologies like artificial intelligence accelerate the decline of clerical work.</td>\n",
       "    </tr>\n",
       "    <tr>\n",
       "      <th>2</th>\n",
       "      <td>reading about IBM replacing ~8,000 jobs with Artificial Intelligence and remembering how there was no interest in the topic during the 2020 Democratic primary race</td>\n",
       "    </tr>\n",
       "    <tr>\n",
       "      <th>3</th>\n",
       "      <td>In this episode of the podcast, we sit down with Melvin Newman, co-founder of PataBid. Learn how PataBid is revolutionizing the way that contractors estimate and bid on jobs through the use of automation, artificial intelligence, and machine learning: https://hubs.ly/Q01NH6J40</td>\n",
       "    </tr>\n",
       "    <tr>\n",
       "      <th>4</th>\n",
       "      <td>Artificial intelligence has the power to automate at least some jobs, according to reports. \"Some jobs\" translates to 7,800 for IBM.</td>\n",
       "    </tr>\n",
       "  </tbody>\n",
       "</table>\n",
       "</div>"
      ],
      "text/plain": [
       "                                                                                                                                                                                                                                                                                  tweets\n",
       "0                                                                                                                                                                                                                                                              Source  Visual Capitalist\n",
       "1                                                                                                                                      Global labor markets are poised for a new era of turbulence as technologies like artificial intelligence accelerate the decline of clerical work.\n",
       "2                                                                                                                    reading about IBM replacing ~8,000 jobs with Artificial Intelligence and remembering how there was no interest in the topic during the 2020 Democratic primary race\n",
       "3  In this episode of the podcast, we sit down with Melvin Newman, co-founder of PataBid. Learn how PataBid is revolutionizing the way that contractors estimate and bid on jobs through the use of automation, artificial intelligence, and machine learning: https://hubs.ly/Q01NH6J40\n",
       "4                                                                                                                                                   Artificial intelligence has the power to automate at least some jobs, according to reports. \"Some jobs\" translates to 7,800 for IBM."
      ]
     },
     "execution_count": 38,
     "metadata": {},
     "output_type": "execute_result"
    }
   ],
   "source": [
    "df = pd.DataFrame(all_tweets,columns=['tweets'])\n",
    "df.head()"
   ]
  },
  {
   "cell_type": "code",
   "execution_count": 42,
   "id": "5cde08ee",
   "metadata": {},
   "outputs": [
    {
     "data": {
      "text/plain": [
       "'Artificial intelligence has the power to automate at least some jobs, according to reports. \"Some jobs\" translates to 7,800 for IBM.'"
      ]
     },
     "execution_count": 42,
     "metadata": {},
     "output_type": "execute_result"
    }
   ],
   "source": [
    "one_tweet=df.iloc[4]['tweets']\n",
    "one_tweet"
   ]
  },
  {
   "cell_type": "code",
   "execution_count": 86,
   "id": "829f1c25",
   "metadata": {},
   "outputs": [
    {
     "name": "stdout",
     "output_type": "stream",
     "text": [
      "Requirement already satisfied: textblob in c:\\users\\welcome\\anaconda3\\lib\\site-packages (0.17.1)\n",
      "Requirement already satisfied: nltk>=3.1 in c:\\users\\welcome\\anaconda3\\lib\\site-packages (from textblob) (3.7)\n",
      "Requirement already satisfied: click in c:\\users\\welcome\\anaconda3\\lib\\site-packages (from nltk>=3.1->textblob) (8.0.4)\n",
      "Requirement already satisfied: tqdm in c:\\users\\welcome\\anaconda3\\lib\\site-packages (from nltk>=3.1->textblob) (4.64.1)\n",
      "Requirement already satisfied: regex>=2021.8.3 in c:\\users\\welcome\\anaconda3\\lib\\site-packages (from nltk>=3.1->textblob) (2022.7.9)\n",
      "Requirement already satisfied: joblib in c:\\users\\welcome\\anaconda3\\lib\\site-packages (from nltk>=3.1->textblob) (1.1.1)\n",
      "Requirement already satisfied: colorama in c:\\users\\welcome\\anaconda3\\lib\\site-packages (from click->nltk>=3.1->textblob) (0.4.6)\n",
      "Requirement already satisfied: wordcloud in c:\\users\\welcome\\anaconda3\\lib\\site-packages (1.9.1.1)\n",
      "Requirement already satisfied: pillow in c:\\users\\welcome\\anaconda3\\lib\\site-packages (from wordcloud) (9.4.0)\n",
      "Requirement already satisfied: matplotlib in c:\\users\\welcome\\anaconda3\\lib\\site-packages (from wordcloud) (3.7.0)\n",
      "Requirement already satisfied: numpy>=1.6.1 in c:\\users\\welcome\\anaconda3\\lib\\site-packages (from wordcloud) (1.23.5)\n",
      "Requirement already satisfied: fonttools>=4.22.0 in c:\\users\\welcome\\anaconda3\\lib\\site-packages (from matplotlib->wordcloud) (4.25.0)\n",
      "Requirement already satisfied: pyparsing>=2.3.1 in c:\\users\\welcome\\anaconda3\\lib\\site-packages (from matplotlib->wordcloud) (3.0.9)\n",
      "Requirement already satisfied: python-dateutil>=2.7 in c:\\users\\welcome\\anaconda3\\lib\\site-packages (from matplotlib->wordcloud) (2.8.2)\n",
      "Requirement already satisfied: kiwisolver>=1.0.1 in c:\\users\\welcome\\anaconda3\\lib\\site-packages (from matplotlib->wordcloud) (1.4.4)\n",
      "Requirement already satisfied: packaging>=20.0 in c:\\users\\welcome\\anaconda3\\lib\\site-packages (from matplotlib->wordcloud) (22.0)\n",
      "Requirement already satisfied: contourpy>=1.0.1 in c:\\users\\welcome\\anaconda3\\lib\\site-packages (from matplotlib->wordcloud) (1.0.5)\n",
      "Requirement already satisfied: cycler>=0.10 in c:\\users\\welcome\\anaconda3\\lib\\site-packages (from matplotlib->wordcloud) (0.11.0)\n",
      "Requirement already satisfied: six>=1.5 in c:\\users\\welcome\\anaconda3\\lib\\site-packages (from python-dateutil>=2.7->matplotlib->wordcloud) (1.16.0)\n"
     ]
    }
   ],
   "source": [
    "!pip install textblob\n",
    "!pip install wordcloud"
   ]
  },
  {
   "cell_type": "code",
   "execution_count": 45,
   "id": "59a17ba0",
   "metadata": {},
   "outputs": [],
   "source": [
    "def TweetCleaning(tweet):\n",
    "    cleanTweet = re.sub(r\"@[a-zA-Z0-9]+\",\"\",tweet)\n",
    "    cleanTweet = re.sub(r\"#[a-zA-Z0-9\\s]+\",\"\",cleanTweet)\n",
    "    cleanTweet = ' '.join(word for word in cleanTweet.split() if word not in stp_words)\n",
    "    return cleanTweet"
   ]
  },
  {
   "cell_type": "code",
   "execution_count": 87,
   "id": "27b31a34",
   "metadata": {},
   "outputs": [],
   "source": [
    "from textblob import TextBlob\n",
    "from wordcloud import WordCloud"
   ]
  },
  {
   "cell_type": "code",
   "execution_count": 46,
   "id": "9196d04e",
   "metadata": {},
   "outputs": [],
   "source": [
    "def calPolarity(tweet):\n",
    "    return TextBlob(tweet).sentiment.polarity"
   ]
  },
  {
   "cell_type": "code",
   "execution_count": 47,
   "id": "307ce6e3",
   "metadata": {},
   "outputs": [],
   "source": [
    "def calSubjectivity(tweet):\n",
    "    return TextBlob(tweet).sentiment.subjectivity"
   ]
  },
  {
   "cell_type": "code",
   "execution_count": 48,
   "id": "d1aba9b4",
   "metadata": {},
   "outputs": [],
   "source": [
    "def segmentation(tweet):\n",
    "    if tweet > 0:\n",
    "        return \"positive\"\n",
    "    if tweet == 0:\n",
    "        return \"neutral\"\n",
    "    else:\n",
    "        return \"negative\""
   ]
  },
  {
   "cell_type": "code",
   "execution_count": 49,
   "id": "5b6109c0",
   "metadata": {},
   "outputs": [
    {
     "data": {
      "text/html": [
       "<div>\n",
       "<style scoped>\n",
       "    .dataframe tbody tr th:only-of-type {\n",
       "        vertical-align: middle;\n",
       "    }\n",
       "\n",
       "    .dataframe tbody tr th {\n",
       "        vertical-align: top;\n",
       "    }\n",
       "\n",
       "    .dataframe thead th {\n",
       "        text-align: right;\n",
       "    }\n",
       "</style>\n",
       "<table border=\"1\" class=\"dataframe\">\n",
       "  <thead>\n",
       "    <tr style=\"text-align: right;\">\n",
       "      <th></th>\n",
       "      <th>tweets</th>\n",
       "      <th>cleanedTweets</th>\n",
       "      <th>tPolarity</th>\n",
       "      <th>tSubjectivity</th>\n",
       "      <th>segmentation</th>\n",
       "    </tr>\n",
       "  </thead>\n",
       "  <tbody>\n",
       "    <tr>\n",
       "      <th>0</th>\n",
       "      <td>Source  Visual Capitalist</td>\n",
       "      <td>Source Visual Capitalist</td>\n",
       "      <td>0.000000</td>\n",
       "      <td>0.000000</td>\n",
       "      <td>neutral</td>\n",
       "    </tr>\n",
       "    <tr>\n",
       "      <th>1</th>\n",
       "      <td>Global labor markets are poised for a new era of turbulence as technologies like artificial intelligence accelerate the decline of clerical work.</td>\n",
       "      <td>Global labor markets poised new era turbulence technologies like artificial intelligence accelerate decline clerical work.</td>\n",
       "      <td>-0.154545</td>\n",
       "      <td>0.484848</td>\n",
       "      <td>negative</td>\n",
       "    </tr>\n",
       "    <tr>\n",
       "      <th>2</th>\n",
       "      <td>reading about IBM replacing ~8,000 jobs with Artificial Intelligence and remembering how there was no interest in the topic during the 2020 Democratic primary race</td>\n",
       "      <td>reading IBM replacing ~8,000 jobs Artificial Intelligence remembering interest topic 2020 Democratic primary race</td>\n",
       "      <td>-0.100000</td>\n",
       "      <td>0.750000</td>\n",
       "      <td>negative</td>\n",
       "    </tr>\n",
       "    <tr>\n",
       "      <th>3</th>\n",
       "      <td>In this episode of the podcast, we sit down with Melvin Newman, co-founder of PataBid. Learn how PataBid is revolutionizing the way that contractors estimate and bid on jobs through the use of automation, artificial intelligence, and machine learning: https://hubs.ly/Q01NH6J40</td>\n",
       "      <td>In episode podcast, sit Melvin Newman, co-founder PataBid. Learn PataBid revolutionizing way contractors estimate bid jobs use automation, artificial intelligence, machine learning: https://hubs.ly/Q01NH6J40</td>\n",
       "      <td>-0.600000</td>\n",
       "      <td>1.000000</td>\n",
       "      <td>negative</td>\n",
       "    </tr>\n",
       "    <tr>\n",
       "      <th>4</th>\n",
       "      <td>Artificial intelligence has the power to automate at least some jobs, according to reports. \"Some jobs\" translates to 7,800 for IBM.</td>\n",
       "      <td>Artificial intelligence power automate least jobs, according reports. \"Some jobs\" translates 7,800 IBM.</td>\n",
       "      <td>-0.450000</td>\n",
       "      <td>0.700000</td>\n",
       "      <td>negative</td>\n",
       "    </tr>\n",
       "  </tbody>\n",
       "</table>\n",
       "</div>"
      ],
      "text/plain": [
       "                                                                                                                                                                                                                                                                                  tweets  \\\n",
       "0                                                                                                                                                                                                                                                              Source  Visual Capitalist   \n",
       "1                                                                                                                                      Global labor markets are poised for a new era of turbulence as technologies like artificial intelligence accelerate the decline of clerical work.   \n",
       "2                                                                                                                    reading about IBM replacing ~8,000 jobs with Artificial Intelligence and remembering how there was no interest in the topic during the 2020 Democratic primary race   \n",
       "3  In this episode of the podcast, we sit down with Melvin Newman, co-founder of PataBid. Learn how PataBid is revolutionizing the way that contractors estimate and bid on jobs through the use of automation, artificial intelligence, and machine learning: https://hubs.ly/Q01NH6J40   \n",
       "4                                                                                                                                                   Artificial intelligence has the power to automate at least some jobs, according to reports. \"Some jobs\" translates to 7,800 for IBM.   \n",
       "\n",
       "                                                                                                                                                                                                     cleanedTweets  \\\n",
       "0                                                                                                                                                                                         Source Visual Capitalist   \n",
       "1                                                                                       Global labor markets poised new era turbulence technologies like artificial intelligence accelerate decline clerical work.   \n",
       "2                                                                                                reading IBM replacing ~8,000 jobs Artificial Intelligence remembering interest topic 2020 Democratic primary race   \n",
       "3  In episode podcast, sit Melvin Newman, co-founder PataBid. Learn PataBid revolutionizing way contractors estimate bid jobs use automation, artificial intelligence, machine learning: https://hubs.ly/Q01NH6J40   \n",
       "4                                                                                                          Artificial intelligence power automate least jobs, according reports. \"Some jobs\" translates 7,800 IBM.   \n",
       "\n",
       "   tPolarity  tSubjectivity segmentation  \n",
       "0   0.000000       0.000000      neutral  \n",
       "1  -0.154545       0.484848     negative  \n",
       "2  -0.100000       0.750000     negative  \n",
       "3  -0.600000       1.000000     negative  \n",
       "4  -0.450000       0.700000     negative  "
      ]
     },
     "execution_count": 49,
     "metadata": {},
     "output_type": "execute_result"
    }
   ],
   "source": [
    "df['cleanedTweets'] = df['tweets'].apply(TweetCleaning)\n",
    "df['tPolarity'] = df['cleanedTweets'].apply(calPolarity)\n",
    "df['tSubjectivity'] = df['cleanedTweets'].apply(calSubjectivity)\n",
    "df['segmentation'] = df['tPolarity'].apply(segmentation)\n",
    "df.head()"
   ]
  },
  {
   "cell_type": "code",
   "execution_count": 50,
   "id": "db0d8c68",
   "metadata": {},
   "outputs": [],
   "source": [
    "# # Analysis and Visualization"
   ]
  },
  {
   "cell_type": "code",
   "execution_count": 51,
   "id": "e388971a",
   "metadata": {},
   "outputs": [
    {
     "data": {
      "text/html": [
       "<div>\n",
       "<style scoped>\n",
       "    .dataframe tbody tr th:only-of-type {\n",
       "        vertical-align: middle;\n",
       "    }\n",
       "\n",
       "    .dataframe tbody tr th {\n",
       "        vertical-align: top;\n",
       "    }\n",
       "\n",
       "    .dataframe thead th {\n",
       "        text-align: right;\n",
       "    }\n",
       "</style>\n",
       "<table border=\"1\" class=\"dataframe\">\n",
       "  <thead>\n",
       "    <tr style=\"text-align: right;\">\n",
       "      <th></th>\n",
       "      <th>segmentation</th>\n",
       "    </tr>\n",
       "    <tr>\n",
       "      <th>segmentation</th>\n",
       "      <th></th>\n",
       "    </tr>\n",
       "  </thead>\n",
       "  <tbody>\n",
       "    <tr>\n",
       "      <th>negative</th>\n",
       "      <td>61</td>\n",
       "    </tr>\n",
       "    <tr>\n",
       "      <th>neutral</th>\n",
       "      <td>16</td>\n",
       "    </tr>\n",
       "    <tr>\n",
       "      <th>positive</th>\n",
       "      <td>25</td>\n",
       "    </tr>\n",
       "  </tbody>\n",
       "</table>\n",
       "</div>"
      ],
      "text/plain": [
       "              segmentation\n",
       "segmentation              \n",
       "negative                61\n",
       "neutral                 16\n",
       "positive                25"
      ]
     },
     "execution_count": 51,
     "metadata": {},
     "output_type": "execute_result"
    }
   ],
   "source": [
    "df.pivot_table(index=['segmentation'],aggfunc={'segmentation':'count'})\n"
   ]
  },
  {
   "cell_type": "code",
   "execution_count": 52,
   "id": "3466b48e",
   "metadata": {},
   "outputs": [
    {
     "data": {
      "text/html": [
       "<div>\n",
       "<style scoped>\n",
       "    .dataframe tbody tr th:only-of-type {\n",
       "        vertical-align: middle;\n",
       "    }\n",
       "\n",
       "    .dataframe tbody tr th {\n",
       "        vertical-align: top;\n",
       "    }\n",
       "\n",
       "    .dataframe thead th {\n",
       "        text-align: right;\n",
       "    }\n",
       "</style>\n",
       "<table border=\"1\" class=\"dataframe\">\n",
       "  <thead>\n",
       "    <tr style=\"text-align: right;\">\n",
       "      <th></th>\n",
       "      <th>tweets</th>\n",
       "      <th>cleanedTweets</th>\n",
       "      <th>tPolarity</th>\n",
       "      <th>tSubjectivity</th>\n",
       "      <th>segmentation</th>\n",
       "    </tr>\n",
       "  </thead>\n",
       "  <tbody>\n",
       "    <tr>\n",
       "      <th>65</th>\n",
       "      <td>IBM Could Replace 7,800 Jobs With Artificial Intelligence, CEO Says</td>\n",
       "      <td>IBM Could Replace 7,800 Jobs With Artificial Intelligence, CEO Says</td>\n",
       "      <td>-0.6</td>\n",
       "      <td>1.0</td>\n",
       "      <td>negative</td>\n",
       "    </tr>\n",
       "    <tr>\n",
       "      <th>94</th>\n",
       "      <td>Artificial intelligence (AI) chatbot system ChatGPT is generating poems, articles and songs... - https://cbn.co.za/industry-news/digital-transformation-information-technology/will-chatgpt-replace-our-jobs/… #artificialintelligence #ChatGPT #creatives #data #internet #digitaltransformation #informationtechnology</td>\n",
       "      <td>Artificial intelligence (AI) chatbot system ChatGPT generating poems, articles songs... - https://cbn.co.za/industry-news/digital-transformation-information-technology/will-chatgpt-replace-our-jobs/…</td>\n",
       "      <td>-0.6</td>\n",
       "      <td>1.0</td>\n",
       "      <td>negative</td>\n",
       "    </tr>\n",
       "    <tr>\n",
       "      <th>86</th>\n",
       "      <td>IBM just laid off 30,000 workers as their jobs will be done by Artificial Intelligence. US will not come to any harm from India or Indian workers.</td>\n",
       "      <td>IBM laid 30,000 workers jobs done Artificial Intelligence. US come harm India Indian workers.</td>\n",
       "      <td>-0.6</td>\n",
       "      <td>1.0</td>\n",
       "      <td>negative</td>\n",
       "    </tr>\n",
       "  </tbody>\n",
       "</table>\n",
       "</div>"
      ],
      "text/plain": [
       "                                                                                                                                                                                                                                                                                                                      tweets  \\\n",
       "65                                                                                                                                                                                                                                                       IBM Could Replace 7,800 Jobs With Artificial Intelligence, CEO Says   \n",
       "94  Artificial intelligence (AI) chatbot system ChatGPT is generating poems, articles and songs... - https://cbn.co.za/industry-news/digital-transformation-information-technology/will-chatgpt-replace-our-jobs/… #artificialintelligence #ChatGPT #creatives #data #internet #digitaltransformation #informationtechnology   \n",
       "86                                                                                                                                                                        IBM just laid off 30,000 workers as their jobs will be done by Artificial Intelligence. US will not come to any harm from India or Indian workers.   \n",
       "\n",
       "                                                                                                                                                                                              cleanedTweets  \\\n",
       "65                                                                                                                                      IBM Could Replace 7,800 Jobs With Artificial Intelligence, CEO Says   \n",
       "94  Artificial intelligence (AI) chatbot system ChatGPT generating poems, articles songs... - https://cbn.co.za/industry-news/digital-transformation-information-technology/will-chatgpt-replace-our-jobs/…   \n",
       "86                                                                                                            IBM laid 30,000 workers jobs done Artificial Intelligence. US come harm India Indian workers.   \n",
       "\n",
       "    tPolarity  tSubjectivity segmentation  \n",
       "65       -0.6            1.0     negative  \n",
       "94       -0.6            1.0     negative  \n",
       "86       -0.6            1.0     negative  "
      ]
     },
     "execution_count": 52,
     "metadata": {},
     "output_type": "execute_result"
    }
   ],
   "source": [
    "# top 3 most negative\n",
    "df.sort_values(by=['tPolarity'],ascending=True).head(3)"
   ]
  },
  {
   "cell_type": "code",
   "execution_count": 54,
   "id": "056c8c95",
   "metadata": {},
   "outputs": [
    {
     "data": {
      "text/html": [
       "<div>\n",
       "<style scoped>\n",
       "    .dataframe tbody tr th:only-of-type {\n",
       "        vertical-align: middle;\n",
       "    }\n",
       "\n",
       "    .dataframe tbody tr th {\n",
       "        vertical-align: top;\n",
       "    }\n",
       "\n",
       "    .dataframe thead th {\n",
       "        text-align: right;\n",
       "    }\n",
       "</style>\n",
       "<table border=\"1\" class=\"dataframe\">\n",
       "  <thead>\n",
       "    <tr style=\"text-align: right;\">\n",
       "      <th></th>\n",
       "      <th>tweets</th>\n",
       "      <th>cleanedTweets</th>\n",
       "      <th>tPolarity</th>\n",
       "      <th>tSubjectivity</th>\n",
       "      <th>segmentation</th>\n",
       "    </tr>\n",
       "  </thead>\n",
       "  <tbody>\n",
       "    <tr>\n",
       "      <th>0</th>\n",
       "      <td>Source  Visual Capitalist</td>\n",
       "      <td>Source Visual Capitalist</td>\n",
       "      <td>0.0</td>\n",
       "      <td>0.0</td>\n",
       "      <td>neutral</td>\n",
       "    </tr>\n",
       "    <tr>\n",
       "      <th>5</th>\n",
       "      <td>Which jobs are most at risk from AI? https://bbc.in/3nm7Oku</td>\n",
       "      <td>Which jobs risk AI? https://bbc.in/3nm7Oku</td>\n",
       "      <td>0.0</td>\n",
       "      <td>0.0</td>\n",
       "      <td>neutral</td>\n",
       "    </tr>\n",
       "    <tr>\n",
       "      <th>8</th>\n",
       "      <td>How to spot a scam when searching for a job | FOX43 FindsOut - WPMT FOX 43</td>\n",
       "      <td>How spot scam searching job | FOX43 FindsOut - WPMT FOX 43</td>\n",
       "      <td>0.0</td>\n",
       "      <td>0.0</td>\n",
       "      <td>neutral</td>\n",
       "    </tr>\n",
       "  </tbody>\n",
       "</table>\n",
       "</div>"
      ],
      "text/plain": [
       "                                                                       tweets  \\\n",
       "0                                                   Source  Visual Capitalist   \n",
       "5                 Which jobs are most at risk from AI? https://bbc.in/3nm7Oku   \n",
       "8  How to spot a scam when searching for a job | FOX43 FindsOut - WPMT FOX 43   \n",
       "\n",
       "                                                cleanedTweets  tPolarity  \\\n",
       "0                                    Source Visual Capitalist        0.0   \n",
       "5                  Which jobs risk AI? https://bbc.in/3nm7Oku        0.0   \n",
       "8  How spot scam searching job | FOX43 FindsOut - WPMT FOX 43        0.0   \n",
       "\n",
       "   tSubjectivity segmentation  \n",
       "0            0.0      neutral  \n",
       "5            0.0      neutral  \n",
       "8            0.0      neutral  "
      ]
     },
     "execution_count": 54,
     "metadata": {},
     "output_type": "execute_result"
    }
   ],
   "source": [
    "# 3 neutral\n",
    "df[df.tPolarity==0].head(3)"
   ]
  },
  {
   "cell_type": "code",
   "execution_count": 55,
   "id": "94d7c9aa",
   "metadata": {},
   "outputs": [
    {
     "data": {
      "text/html": [
       "<div>\n",
       "<style scoped>\n",
       "    .dataframe tbody tr th:only-of-type {\n",
       "        vertical-align: middle;\n",
       "    }\n",
       "\n",
       "    .dataframe tbody tr th {\n",
       "        vertical-align: top;\n",
       "    }\n",
       "\n",
       "    .dataframe thead th {\n",
       "        text-align: right;\n",
       "    }\n",
       "</style>\n",
       "<table border=\"1\" class=\"dataframe\">\n",
       "  <thead>\n",
       "    <tr style=\"text-align: right;\">\n",
       "      <th></th>\n",
       "      <th>tweets</th>\n",
       "      <th>cleanedTweets</th>\n",
       "      <th>tPolarity</th>\n",
       "      <th>tSubjectivity</th>\n",
       "      <th>segmentation</th>\n",
       "    </tr>\n",
       "  </thead>\n",
       "  <tbody>\n",
       "    <tr>\n",
       "      <th>16</th>\n",
       "      <td>Featuring career talks, a career expo, and more, here are a few ways that you can supercharge your job search at ODSC East this May. #DataScience #ArtificialIntelligence</td>\n",
       "      <td>Featuring career talks, career expo, more, ways supercharge job search ODSC East May.</td>\n",
       "      <td>0.5</td>\n",
       "      <td>0.50</td>\n",
       "      <td>positive</td>\n",
       "    </tr>\n",
       "    <tr>\n",
       "      <th>28</th>\n",
       "      <td>Un artículo muy relevante para reflexionar (Tb' educadore/as): \"Which Jobs Will Be Most Impacted by ChatGPT?\"  #odite \\n@EspiralOdite\\n @xsune\\n @caminologa\\n @nsabate4\\n @caotico27\\n @jplanasga\\n @francescnadal\\n @ciberespiral\\n @NewsNeus\\n @igrezan\\n @LastrarotH\\n @Merce_G</td>\n",
       "      <td>Un artículo muy relevante para reflexionar (Tb' educadore/as): \"Which Jobs Will Be Most Impacted ChatGPT?\" _G</td>\n",
       "      <td>0.5</td>\n",
       "      <td>0.50</td>\n",
       "      <td>positive</td>\n",
       "    </tr>\n",
       "    <tr>\n",
       "      <th>92</th>\n",
       "      <td>#NewToolAlert  Check out Chadview, the AI-powered real-time meetings assistant, now available on #AiTopTools!  Prepare for job interviews, sales calls &amp; more.  Get the details: https://aitoptools.com/tool/chadview/  #ArtificialIntelligence #AI</td>\n",
       "      <td>, AI-powered real-time meetings assistant, available ! Prepare job interviews, sales calls &amp; more. Get details: https://aitoptools.com/tool/chadview/</td>\n",
       "      <td>0.5</td>\n",
       "      <td>0.45</td>\n",
       "      <td>positive</td>\n",
       "    </tr>\n",
       "  </tbody>\n",
       "</table>\n",
       "</div>"
      ],
      "text/plain": [
       "                                                                                                                                                                                                                                                                                 tweets  \\\n",
       "16                                                                                                            Featuring career talks, a career expo, and more, here are a few ways that you can supercharge your job search at ODSC East this May. #DataScience #ArtificialIntelligence   \n",
       "28  Un artículo muy relevante para reflexionar (Tb' educadore/as): \"Which Jobs Will Be Most Impacted by ChatGPT?\"  #odite \\n@EspiralOdite\\n @xsune\\n @caminologa\\n @nsabate4\\n @caotico27\\n @jplanasga\\n @francescnadal\\n @ciberespiral\\n @NewsNeus\\n @igrezan\\n @LastrarotH\\n @Merce_G   \n",
       "92                                  #NewToolAlert  Check out Chadview, the AI-powered real-time meetings assistant, now available on #AiTopTools!  Prepare for job interviews, sales calls & more.  Get the details: https://aitoptools.com/tool/chadview/  #ArtificialIntelligence #AI   \n",
       "\n",
       "                                                                                                                                            cleanedTweets  \\\n",
       "16                                                                  Featuring career talks, career expo, more, ways supercharge job search ODSC East May.   \n",
       "28                                          Un artículo muy relevante para reflexionar (Tb' educadore/as): \"Which Jobs Will Be Most Impacted ChatGPT?\" _G   \n",
       "92  , AI-powered real-time meetings assistant, available ! Prepare job interviews, sales calls & more. Get details: https://aitoptools.com/tool/chadview/   \n",
       "\n",
       "    tPolarity  tSubjectivity segmentation  \n",
       "16        0.5           0.50     positive  \n",
       "28        0.5           0.50     positive  \n",
       "92        0.5           0.45     positive  "
      ]
     },
     "execution_count": 55,
     "metadata": {},
     "output_type": "execute_result"
    }
   ],
   "source": [
    "# top 3 most positive\n",
    "df.sort_values(by=['tPolarity'],ascending=False).head(3)"
   ]
  },
  {
   "cell_type": "code",
   "execution_count": 56,
   "id": "712dcfeb",
   "metadata": {},
   "outputs": [
    {
     "name": "stderr",
     "output_type": "stream",
     "text": [
      "Matplotlib is building the font cache; this may take a moment.\n"
     ]
    }
   ],
   "source": [
    "import matplotlib.pyplot as plt"
   ]
  },
  {
   "cell_type": "code",
   "execution_count": 64,
   "id": "1ac7e8e3",
   "metadata": {},
   "outputs": [],
   "source": [
    "consolidated = ' '.join(word for word in df['cleanedTweets'])"
   ]
  },
  {
   "cell_type": "code",
   "execution_count": 77,
   "id": "c8386c63",
   "metadata": {},
   "outputs": [],
   "source": [
    "wordCloud = WordCloud(width=500, height=666, random_state=15, max_font_size=119,).generate(consolidated)"
   ]
  },
  {
   "cell_type": "code",
   "execution_count": 78,
   "id": "6d86144b",
   "metadata": {},
   "outputs": [
    {
     "data": {
      "image/png": "[encoded data removed]",
      "text/plain": [
       "<Figure size 640x480 with 1 Axes>"
      ]
     },
     "metadata": {},
     "output_type": "display_data"
    }
   ],
   "source": [
    "plt.imshow(wordCloud, interpolation='bilinear')\n",
    "plt.axis('off')\n",
    "plt.show()"
   ]
  },
  {
   "cell_type": "code",
   "execution_count": 79,
   "id": "8a44b0b0",
   "metadata": {},
   "outputs": [],
   "source": [
    "import seaborn as sns"
   ]
  },
  {
   "cell_type": "code",
   "execution_count": 80,
   "id": "3578327c",
   "metadata": {},
   "outputs": [
    {
     "data": {
      "text/html": [
       "<div>\n",
       "<style scoped>\n",
       "    .dataframe tbody tr th:only-of-type {\n",
       "        vertical-align: middle;\n",
       "    }\n",
       "\n",
       "    .dataframe tbody tr th {\n",
       "        vertical-align: top;\n",
       "    }\n",
       "\n",
       "    .dataframe thead th {\n",
       "        text-align: right;\n",
       "    }\n",
       "</style>\n",
       "<table border=\"1\" class=\"dataframe\">\n",
       "  <thead>\n",
       "    <tr style=\"text-align: right;\">\n",
       "      <th></th>\n",
       "      <th>tweets</th>\n",
       "      <th>cleanedTweets</th>\n",
       "      <th>tPolarity</th>\n",
       "      <th>tSubjectivity</th>\n",
       "    </tr>\n",
       "    <tr>\n",
       "      <th>segmentation</th>\n",
       "      <th></th>\n",
       "      <th></th>\n",
       "      <th></th>\n",
       "      <th></th>\n",
       "    </tr>\n",
       "  </thead>\n",
       "  <tbody>\n",
       "    <tr>\n",
       "      <th>negative</th>\n",
       "      <td>61</td>\n",
       "      <td>61</td>\n",
       "      <td>61</td>\n",
       "      <td>61</td>\n",
       "    </tr>\n",
       "    <tr>\n",
       "      <th>neutral</th>\n",
       "      <td>16</td>\n",
       "      <td>16</td>\n",
       "      <td>16</td>\n",
       "      <td>16</td>\n",
       "    </tr>\n",
       "    <tr>\n",
       "      <th>positive</th>\n",
       "      <td>25</td>\n",
       "      <td>25</td>\n",
       "      <td>25</td>\n",
       "      <td>25</td>\n",
       "    </tr>\n",
       "  </tbody>\n",
       "</table>\n",
       "</div>"
      ],
      "text/plain": [
       "              tweets  cleanedTweets  tPolarity  tSubjectivity\n",
       "segmentation                                                 \n",
       "negative          61             61         61             61\n",
       "neutral           16             16         16             16\n",
       "positive          25             25         25             25"
      ]
     },
     "execution_count": 80,
     "metadata": {},
     "output_type": "execute_result"
    }
   ],
   "source": [
    "df.groupby('segmentation').count()"
   ]
  },
  {
   "cell_type": "code",
   "execution_count": 81,
   "id": "4a446b2b",
   "metadata": {},
   "outputs": [
    {
     "data": {
      "text/plain": [
       "<Axes: xlabel='tPolarity', ylabel='tSubjectivity'>"
      ]
     },
     "execution_count": 81,
     "metadata": {},
     "output_type": "execute_result"
    },
    {
     "data": {
      "image/png": "[encoded data removed]",
      "text/plain": [
       "<Figure size 1000x500 with 1 Axes>"
      ]
     },
     "metadata": {},
     "output_type": "display_data"
    }
   ],
   "source": [
    "plt.figure(figsize=(10,5))\n",
    "sns.set_style(\"whitegrid\")\n",
    "sns.scatterplot(data=df, x='tPolarity',y='tSubjectivity',s=100,hue='segmentation')"
   ]
  },
  {
   "cell_type": "code",
   "execution_count": 82,
   "id": "78ba7042",
   "metadata": {},
   "outputs": [
    {
     "data": {
      "text/plain": [
       "<Axes: xlabel='segmentation', ylabel='count'>"
      ]
     },
     "execution_count": 82,
     "metadata": {},
     "output_type": "execute_result"
    },
    {
     "data": {
      "image/png": "[encoded data removed]",
      "text/plain": [
       "<Figure size 640x480 with 1 Axes>"
      ]
     },
     "metadata": {},
     "output_type": "display_data"
    }
   ],
   "source": [
    "sns.countplot(data=df,x='segmentation')"
   ]
  },
  {
   "cell_type": "code",
   "execution_count": 85,
   "id": "2c730d25",
   "metadata": {},
   "outputs": [
    {
     "data": {
      "text/html": [
       "<div>\n",
       "<style scoped>\n",
       "    .dataframe tbody tr th:only-of-type {\n",
       "        vertical-align: middle;\n",
       "    }\n",
       "\n",
       "    .dataframe tbody tr th {\n",
       "        vertical-align: top;\n",
       "    }\n",
       "\n",
       "    .dataframe thead th {\n",
       "        text-align: right;\n",
       "    }\n",
       "</style>\n",
       "<table border=\"1\" class=\"dataframe\">\n",
       "  <thead>\n",
       "    <tr style=\"text-align: right;\">\n",
       "      <th></th>\n",
       "      <th>resp</th>\n",
       "      <th>pct</th>\n",
       "    </tr>\n",
       "  </thead>\n",
       "  <tbody>\n",
       "    <tr>\n",
       "      <th>0</th>\n",
       "      <td>Excited</td>\n",
       "      <td>24.5</td>\n",
       "    </tr>\n",
       "    <tr>\n",
       "      <th>1</th>\n",
       "      <td>Afraid</td>\n",
       "      <td>59.8</td>\n",
       "    </tr>\n",
       "    <tr>\n",
       "      <th>2</th>\n",
       "      <td>Confused</td>\n",
       "      <td>15.7</td>\n",
       "    </tr>\n",
       "  </tbody>\n",
       "</table>\n",
       "</div>"
      ],
      "text/plain": [
       "       resp   pct\n",
       "0   Excited  24.5\n",
       "1    Afraid  59.8\n",
       "2  Confused  15.7"
      ]
     },
     "execution_count": 85,
     "metadata": {},
     "output_type": "execute_result"
    }
   ],
   "source": [
    "\n",
    "positive = round(len(df[df.segmentation == 'positive'])/len(df)*100,1)\n",
    "negative = round(len(df[df.segmentation == 'negative'])/len(df)*100,1)\n",
    "neutral = round(len(df[df.segmentation == 'neutral'])/len(df)*100,1)\n",
    "\n",
    "responses = [positive, negative, neutral]\n",
    "responses\n",
    "\n",
    "response = {'resp': ['Excited', 'Afraid', 'Confused'], 'pct':[positive, negative, neutral]}\n",
    "pd.DataFrame(response)"
   ]
  }
 ],
 "metadata": {
  "kernelspec": {
   "display_name": "Python 3 (ipykernel)",
   "language": "python",
   "name": "python3"
  },
  "language_info": {
   "codemirror_mode": {
    "name": "ipython",
    "version": 3
   },
   "file_extension": ".py",
   "mimetype": "text/x-python",
   "name": "python",
   "nbconvert_exporter": "python",
   "pygments_lexer": "ipython3",
   "version": "3.10.9"
  }
 },
 "nbformat": 4,
 "nbformat_minor": 5
}
